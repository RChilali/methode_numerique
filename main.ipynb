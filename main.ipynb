{
 "cells": [
  {
   "cell_type": "markdown",
   "source": [
    "## Rapport méthode numérique machine learning   Daria Kulieshova et Rayane Chilali"
   ],
   "metadata": {
    "collapsed": false
   }
  },
  {
   "cell_type": "markdown",
   "source": [
    "### Préparation du dataframes"
   ],
   "metadata": {
    "collapsed": false
   }
  },
  {
   "cell_type": "code",
   "execution_count": 2,
   "metadata": {
    "collapsed": true,
    "ExecuteTime": {
     "end_time": "2023-06-13T20:54:24.352980400Z",
     "start_time": "2023-06-13T20:54:24.063931900Z"
    }
   },
   "outputs": [],
   "source": [
    "import pandas as pd\n",
    "\n",
    "#\n",
    "table1 = pd.read_csv('./table1.csv')\n",
    "table2 = pd.read_csv('./table2.csv')\n",
    "\n",
    "dataframe = pd.merge(table2, table1, on='id')\n",
    "\n",
    "dataframe.to_csv('./table_final.csv', index=False)\n"
   ]
  },
  {
   "cell_type": "markdown",
   "source": [
    "### numérisation du dataframe"
   ],
   "metadata": {
    "collapsed": false
   }
  },
  {
   "cell_type": "code",
   "execution_count": 19,
   "outputs": [],
   "source": [
    "ParentMaritalStatusMapping = {\n",
    "    'married': 1,\n",
    "    'single': 2,\n",
    "    'widowed': 3,\n",
    "    'divorced': 4\n",
    "}\n",
    "PracticeSportMapping = {\n",
    "    'PracticeSport': 1,\n",
    "    'regularly': 2,\n",
    "    'sometimes': 3,\n",
    "    'never': 4\n",
    "}\n",
    "IsFirstChildMapping = {\n",
    "    'yes': 1,\n",
    "    'no': 2\n",
    "}\n",
    "NrSiblingsMapping = {\n",
    "    '1.0': 1,\n",
    "    '2.0': 2,\n",
    "    '3.0': 3,\n",
    "    '4.0': 4,\n",
    "}\n",
    "TransportMeansMapping = {\n",
    "    'school_bus': 1,\n",
    "    'private': 2\n",
    "}\n",
    "WklyStudyHoursMapping = {\n",
    "    '< 5': 1,\n",
    "    '5 - 10': 2,\n",
    "    '> 10': 3\n",
    "}\n",
    "\n",
    "GenderMapping = {\n",
    "    'female': 1,\n",
    "    'male': 2\n",
    "}\n",
    "EthnicGroupMapping = {\n",
    "    'group A': 1,\n",
    "    'group B': 2,\n",
    "    'group C': 3,\n",
    "    'group D': 4,\n",
    "    'group E': 5\n",
    "}\n",
    "ParentEducMapping = {\n",
    "    'bachelor\\'s degree': 1,\n",
    "    'some college': 2,\n",
    "    'master\\'s degree': 3,\n",
    "    'associate\\'s degree': 4,\n",
    "    'high school': 5,\n",
    "    'some high school': 6\n",
    "}\n",
    "LunchTypeMapping = {\n",
    "    'standard': 1,\n",
    "    'free/reduced': 2\n",
    "}\n",
    "TestPrepMapping = {\n",
    "    'none': 1,\n",
    "    'completed': 2\n",
    "}\n",
    "\n",
    "dataframe['ParentMaritalStatus'] = dataframe['ParentMaritalStatus'].map(ParentMaritalStatusMapping)\n",
    "dataframe['PracticeSport'] = dataframe['PracticeSport'].map(PracticeSportMapping)\n",
    "dataframe['IsFirstChild'] = dataframe['IsFirstChild'].map(IsFirstChildMapping)\n",
    "dataframe['NrSiblings'] = dataframe['NrSiblings'].map(NrSiblingsMapping)\n",
    "dataframe['TransportMeans'] = dataframe['TransportMeans'].map(TransportMeansMapping)\n",
    "dataframe['WklyStudyHours'] = dataframe['WklyStudyHours'].map(WklyStudyHoursMapping)\n",
    "dataframe['Gender'] = dataframe['Gender'].map(GenderMapping)\n",
    "dataframe['EthnicGroup'] = dataframe['EthnicGroup'].map(EthnicGroupMapping)\n",
    "dataframe['ParentEduc'] = dataframe['ParentEduc'].map(ParentEducMapping)\n",
    "dataframe['LunchType'] = dataframe['LunchType'].map(LunchTypeMapping)\n",
    "dataframe['TestPrep'] = dataframe['TestPrep'].map(TestPrepMapping)\n",
    "\n",
    "\n",
    "dataframe.to_csv('./table_final_num.csv', index=False)\n",
    "\n",
    "\n"
   ],
   "metadata": {
    "collapsed": false,
    "ExecuteTime": {
     "end_time": "2023-06-13T21:25:05.688797800Z",
     "start_time": "2023-06-13T21:25:05.434094600Z"
    }
   }
  },
  {
   "cell_type": "code",
   "execution_count": null,
   "outputs": [],
   "source": [],
   "metadata": {
    "collapsed": false
   }
  }
 ],
 "metadata": {
  "kernelspec": {
   "display_name": "Python 3",
   "language": "python",
   "name": "python3"
  },
  "language_info": {
   "codemirror_mode": {
    "name": "ipython",
    "version": 2
   },
   "file_extension": ".py",
   "mimetype": "text/x-python",
   "name": "python",
   "nbconvert_exporter": "python",
   "pygments_lexer": "ipython2",
   "version": "2.7.6"
  }
 },
 "nbformat": 4,
 "nbformat_minor": 0
}
